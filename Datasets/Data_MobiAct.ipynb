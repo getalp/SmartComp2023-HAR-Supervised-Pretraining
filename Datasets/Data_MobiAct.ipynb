{
 "cells": [
  {
   "cell_type": "code",
   "execution_count": null,
   "id": "7fa00c69",
   "metadata": {},
   "outputs": [],
   "source": [
    "\n",
    "    # import mobiact data\n",
    "import scipy\n",
    "import scipy.signal\n",
    "from sklearn.preprocessing import OneHotEncoder,LabelEncoder\n",
    "from scipy import stats\n",
    "from sklearn import preprocessing\n",
    "import numpy as np\n",
    "import pandas as pd\n",
    "import tensorflow as tf\n",
    "import os\n",
    "import hickle as hkl"
   ]
  },
  {
   "cell_type": "code",
   "execution_count": null,
   "id": "f1603065",
   "metadata": {},
   "outputs": [],
   "source": [
    "def standardize_data(deviceData):\n",
    "    deviceDataAcc = deviceData[:,:,:3].astype(np.float32)\n",
    "    deviceDataGyro = deviceData[:,:,3:].astype(np.float32)\n",
    "    accMean =  np.mean(deviceDataAcc)\n",
    "    accStd =  np.std(deviceDataAcc)\n",
    "    gyroMean =  np.mean(deviceDataGyro)\n",
    "    gyroStd =  np.std(deviceDataGyro)\n",
    "    deviceDataAcc = (deviceDataAcc - accMean)/accStd\n",
    "    deviceDataGyro = (deviceDataGyro - gyroMean)/gyroStd\n",
    "    deviceData = np.dstack((deviceDataAcc,deviceDataGyro))\n",
    "    return deviceData\n",
    "\n",
    "def create_segments_and_labels_Mobiact_fixed(df, time_steps, step, label_name = \"LabelsEncoded\", n_features= 6):\n",
    "    segments = []\n",
    "    labels = []\n",
    "    for i in range(0, len(df) - time_steps, step):\n",
    "        acc_x = df['acc_x'].values[i: i + time_steps]\n",
    "        acc_y = df['acc_y'].values[i: i + time_steps]\n",
    "        acc_z = df['acc_z'].values[i: i + time_steps]\n",
    "\n",
    "        gyro_x = df['gyro_x'].values[i: i + time_steps]\n",
    "        gyro_y = df['gyro_y'].values[i: i + time_steps]\n",
    "        gyro_z = df['gyro_z'].values[i: i + time_steps]\n",
    "        # Retrieve the most often used label in this segment\n",
    "        label = stats.mode(df[label_name][i: i + time_steps])[0][0]\n",
    "        reshaped = np.dstack([acc_x,acc_y,acc_z,gyro_x,gyro_y,gyro_z]).reshape(time_steps, n_features)\n",
    "        segments.append(reshaped)\n",
    "        labels.append(label)\n",
    "    return np.asarray(segments), np.asarray(labels)\n"
   ]
  },
  {
   "cell_type": "code",
   "execution_count": null,
   "id": "14ab6ea8",
   "metadata": {},
   "outputs": [],
   "source": [
    "base_dir = \"dataset\"\n",
    "df_all_data = pd.read_csv(base_dir +'/Mob_data_01.csv')\n",
    "\n",
    "unique_user_ids = df_all_data['user_id'].unique()\n",
    "all_data = []\n",
    "all_labels = []\n",
    "for user_id in unique_user_ids:\n",
    "    selected_data = df_all_data.loc[df_all_data['user_id'] == user_id]\n",
    "    x, y = create_segments_and_labels_Mobiact_fixed(selected_data, 256, 128)\n",
    "    x_aligned = scipy.signal.decimate(x, q = 2, n=None, ftype='iir', axis=1, zero_phase=True)\n",
    "    mapping = [2,9,3,4,0,1,5]\n",
    "    y_aligned =  np.hstack(mapping[labelIndex] for labelIndex in y)\n",
    "    y_oneHot_aligned = tf.one_hot(y_aligned,10)\n",
    "    all_data.append(x_aligned)\n",
    "    all_labels.append(y_oneHot_aligned)"
   ]
  },
  {
   "cell_type": "code",
   "execution_count": null,
   "id": "24f02245",
   "metadata": {},
   "outputs": [],
   "source": [
    "all_labels = np.asarray(all_labels)\n",
    "all_data = np.asarray(all_data)"
   ]
  },
  {
   "cell_type": "code",
   "execution_count": null,
   "id": "95bb0b74",
   "metadata": {},
   "outputs": [],
   "source": [
    "subjectIndex = []\n",
    "for data in all_data:\n",
    "    subjectIndex.append(data.shape[0])"
   ]
  },
  {
   "cell_type": "code",
   "execution_count": null,
   "id": "ffabcc29",
   "metadata": {},
   "outputs": [],
   "source": [
    "allData = np.vstack((all_data))\n",
    "standardizedData = standardize_data(allData)"
   ]
  },
  {
   "cell_type": "code",
   "execution_count": null,
   "id": "5dd951ed",
   "metadata": {},
   "outputs": [],
   "source": [
    "subjectData = []\n",
    "startIndex = 0\n",
    "endIndex = 0\n",
    "for index in subjectIndex:\n",
    "    endIndex += index\n",
    "    subjectData.append(standardizedData[startIndex:endIndex])\n",
    "    startIndex = endIndex\n",
    "subjectData = np.asarray(subjectData)"
   ]
  },
  {
   "cell_type": "code",
   "execution_count": null,
   "id": "0443a6b8",
   "metadata": {},
   "outputs": [],
   "source": [
    "dataName = 'MobiAct'\n",
    "os.makedirs('datasetClientsUnion/'+dataName, exist_ok=True)\n",
    "hkl.dump(subjectData,'datasetClientsUnion/'+dataName+ '/clientsData.hkl' )\n",
    "hkl.dump(all_labels,'datasetClientsUnion/'+dataName+ '/clientsLabel.hkl' )"
   ]
  },
  {
   "cell_type": "code",
   "execution_count": null,
   "id": "99ff9aaa",
   "metadata": {},
   "outputs": [],
   "source": []
  }
 ],
 "metadata": {
  "kernelspec": {
   "display_name": "Python 3",
   "language": "python",
   "name": "python3"
  },
  "language_info": {
   "codemirror_mode": {
    "name": "ipython",
    "version": 3
   },
   "file_extension": ".py",
   "mimetype": "text/x-python",
   "name": "python",
   "nbconvert_exporter": "python",
   "pygments_lexer": "ipython3",
   "version": "3.7.3"
  }
 },
 "nbformat": 4,
 "nbformat_minor": 5
}
